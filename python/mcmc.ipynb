{
 "cells": [
  {
   "cell_type": "markdown",
   "metadata": {},
   "source": [
    "# Stochastic Simulation: MCMC"
   ]
  },
  {
   "cell_type": "code",
   "execution_count": 1,
   "metadata": {},
   "outputs": [],
   "source": [
    "import math\n",
    "import pandas as pd\n",
    "import numpy as np\n",
    "from matplotlib import pyplot as plt\n",
    "import scipy.stats as st\n",
    "import random as rd\n",
    "from importlib import reload  \n",
    "import statsmodels.api as sm\n",
    "from typing import Union\n",
    "\n",
    "from TidySimStat import *\n",
    "# tss = reload(tss)"
   ]
  },
  {
   "cell_type": "code",
   "execution_count": 17,
   "metadata": {
    "scrolled": true
   },
   "outputs": [
    {
     "data": {
      "text/plain": [
       "[0.00021050415745710977,\n",
       " 0.0033680665193137563,\n",
       " 0.011472476581412483,\n",
       " 0.03462793390169456,\n",
       " 0.06915061572466057,\n",
       " 0.10472581833491211,\n",
       " 0.1551415640458899,\n",
       " 0.17408693821702978,\n",
       " 0.17556046731922956,\n",
       " 0.14935269971581938,\n",
       " 0.12230291548258078]"
      ]
     },
     "execution_count": 17,
     "metadata": {},
     "output_type": "execute_result"
    }
   ],
   "source": [
    "results = [0.00021050415745710977, 0.0033680665193137563, 0.011472476581412483, 0.03462793390169456, 0.06915061572466057, 0.10472581833491211, 0.1551415640458899, 0.17408693821702978, 0.17556046731922956, 0.14935269971581938, 0.12230291548258078]\n",
    "results"
   ]
  },
  {
   "cell_type": "code",
   "execution_count": 16,
   "metadata": {
    "scrolled": true
   },
   "outputs": [
    {
     "data": {
      "text/plain": [
       "[0.00041116370815887153,\n",
       " 0.0032893096652709722,\n",
       " 0.013157238661083889,\n",
       " 0.03508596976289037,\n",
       " 0.07017193952578074,\n",
       " 0.11227510324124919,\n",
       " 0.14970013765499893,\n",
       " 0.17108587160571304,\n",
       " 0.17108587160571304,\n",
       " 0.1520763303161894,\n",
       " 0.12166106425295149]"
      ]
     },
     "execution_count": 16,
     "metadata": {},
     "output_type": "execute_result"
    }
   ],
   "source": [
    "theories = [cal_count_queue(i, 8) for i in range(0, 11)]\n",
    "theories = [i / sum(theories) for i in theories]\n",
    "theories"
   ]
  },
  {
   "cell_type": "code",
   "execution_count": 19,
   "metadata": {
    "scrolled": false
   },
   "outputs": [
    {
     "data": {
      "text/plain": [
       "[<matplotlib.lines.Line2D at 0x117f78590>]"
      ]
     },
     "execution_count": 19,
     "metadata": {},
     "output_type": "execute_result"
    },
    {
     "data": {
      "image/png": "[encoded data removed]",
      "text/plain": [
       "<Figure size 432x288 with 1 Axes>"
      ]
     },
     "metadata": {
      "needs_background": "light"
     },
     "output_type": "display_data"
    }
   ],
   "source": [
    "plt.plot([i for i in range(11)], results)\n",
    "plt.plot([i for i in range(11)], theories)"
   ]
  },
  {
   "cell_type": "code",
   "execution_count": 25,
   "metadata": {},
   "outputs": [],
   "source": [
    "counts = [math.ceil(i * 10000 * 0.95) for i in results]\n",
    "n = sum(counts)"
   ]
  },
  {
   "cell_type": "code",
   "execution_count": 26,
   "metadata": {},
   "outputs": [
    {
     "data": {
      "text/plain": [
       "0.273"
      ]
     },
     "execution_count": 26,
     "metadata": {},
     "output_type": "execute_result"
    }
   ],
   "source": [
    "stat = cal_stat_gof(counts, theories)\n",
    "pvalue = cal_pvalue_gof(stat, theories, n)\n",
    "# cal_pvalue_chi2(stat, df=n-1)"
   ]
  },
  {
   "cell_type": "code",
   "execution_count": 31,
   "metadata": {},
   "outputs": [
    {
     "data": {
      "text/plain": [
       "(12.00568064531264, 0.273)"
      ]
     },
     "execution_count": 31,
     "metadata": {},
     "output_type": "execute_result"
    }
   ],
   "source": [
    "stat, pvalue"
   ]
  },
  {
   "cell_type": "code",
   "execution_count": 29,
   "metadata": {},
   "outputs": [
    {
     "data": {
      "text/plain": [
       "Power_divergenceResult(statistic=12.005680645312639, pvalue=0.284676495668884)"
      ]
     },
     "execution_count": 29,
     "metadata": {},
     "output_type": "execute_result"
    }
   ],
   "source": [
    "st.chisquare(counts, f_exp=[i * n for i in theories])"
   ]
  },
  {
   "cell_type": "markdown",
   "metadata": {},
   "source": [
    "## 2 Dimension"
   ]
  },
  {
   "cell_type": "code",
   "execution_count": 2,
   "metadata": {},
   "outputs": [],
   "source": [
    "def cal_block_rate_2d(n_servers:int, a1:float, a2:float, n_sample:int=10000):\n",
    "    if n_servers != 10:\n",
    "        raise ValueError(f\"The number of servers must be set as 10 for now.\")\n",
    "\n",
    "    ## Store all possible values in a list\n",
    "    li = []\n",
    "    for i in range(0, n_servers + 1):\n",
    "        li += [(i, j) for j in range(0, n_servers + 1)]\n",
    "\n",
    "    ## Drop those tuples violating constraints\n",
    "    li = [x for x in li if x[0] + x[1] <= n_servers]\n",
    "\n",
    "    ## When `n_servers` is 10, the size of `li` is 66.\n",
    "    shape1 = 6\n",
    "    ss = get_ss_2d(li, shape1)\n",
    "    shape2 = 11\n",
    "\n",
    "    f_y = lambda x: loop_rdw_2d(x, shape1, shape2)\n",
    "\n",
    "    def f_b(x):\n",
    "        i, j = ss[x]\n",
    "        result = a1**i * a2**j / math.factorial(i) / math.factorial(j)\n",
    "        return result\n",
    "\n",
    "    f_accept = lambda x, y: accept_simple(x, y, f_b)\n",
    "\n",
    "    xz1 = (rd.randint(1, shape1+1), rd.randint(1, shape1+2))\n",
    "    results = sim_mcmc(xz1, f_y, f_accept, n_sample)\n",
    "\n",
    "    return results, li"
   ]
  },
  {
   "cell_type": "code",
   "execution_count": 9,
   "metadata": {
    "scrolled": true
   },
   "outputs": [],
   "source": [
    "results, li = cal_block_rate_2d(10, 4, 4, 10000)"
   ]
  },
  {
   "cell_type": "code",
   "execution_count": 15,
   "metadata": {},
   "outputs": [],
   "source": [
    "x_results = [results[i]['x'] for i in range(1000 + 1, 10000 + 1)]\n",
    "counts = {}\n",
    "freqs = {}\n",
    "for t in li:\n",
    "    c = x_results.count(t)\n",
    "    counts[t] = c\n",
    "    freqs[t] = c / 9000"
   ]
  },
  {
   "cell_type": "code",
   "execution_count": 16,
   "metadata": {},
   "outputs": [
    {
     "data": {
      "text/plain": [
       "{(1, 4): 121,\n",
       " (3, 0): 0,\n",
       " (6, 3): 129,\n",
       " (6, 2): 148,\n",
       " (0, 5): 0,\n",
       " (0, 3): 0,\n",
       " (8, 0): 0,\n",
       " (0, 6): 0,\n",
       " (0, 10): 0,\n",
       " (0, 9): 0,\n",
       " (1, 6): 89,\n",
       " (1, 2): 144,\n",
       " (2, 4): 141,\n",
       " (5, 5): 135,\n",
       " (2, 8): 137,\n",
       " (1, 0): 0,\n",
       " (2, 5): 132,\n",
       " (0, 2): 0,\n",
       " (0, 1): 0,\n",
       " (1, 3): 138,\n",
       " (4, 0): 0,\n",
       " (1, 7): 117,\n",
       " (3, 2): 158,\n",
       " (5, 2): 147,\n",
       " (8, 1): 0,\n",
       " (3, 5): 137,\n",
       " (1, 5): 129,\n",
       " (0, 8): 0,\n",
       " (4, 1): 154,\n",
       " (9, 1): 0,\n",
       " (0, 7): 0,\n",
       " (1, 9): 125,\n",
       " (2, 3): 153,\n",
       " (8, 2): 0,\n",
       " (4, 3): 131,\n",
       " (7, 2): 0,\n",
       " (3, 4): 156,\n",
       " (0, 4): 0,\n",
       " (6, 4): 130,\n",
       " (6, 0): 0,\n",
       " (1, 1): 148,\n",
       " (9, 0): 0,\n",
       " (2, 7): 129,\n",
       " (2, 0): 0,\n",
       " (2, 1): 152,\n",
       " (4, 4): 135,\n",
       " (2, 2): 154,\n",
       " (4, 6): 122,\n",
       " (5, 0): 0,\n",
       " (5, 4): 109,\n",
       " (7, 0): 0,\n",
       " (7, 3): 0,\n",
       " (5, 1): 160,\n",
       " (3, 6): 138,\n",
       " (5, 3): 142,\n",
       " (1, 8): 131,\n",
       " (3, 1): 179,\n",
       " (4, 5): 128,\n",
       " (0, 0): 0,\n",
       " (6, 1): 173,\n",
       " (4, 2): 134,\n",
       " (10, 0): 0,\n",
       " (7, 1): 0,\n",
       " (3, 3): 150,\n",
       " (3, 7): 117,\n",
       " (2, 6): 112}"
      ]
     },
     "execution_count": 16,
     "metadata": {},
     "output_type": "execute_result"
    }
   ],
   "source": [
    "counts"
   ]
  }
 ],
 "metadata": {
  "kernelspec": {
   "display_name": "Python 3",
   "language": "python",
   "name": "python3"
  },
  "language_info": {
   "codemirror_mode": {
    "name": "ipython",
    "version": 3
   },
   "file_extension": ".py",
   "mimetype": "text/x-python",
   "name": "python",
   "nbconvert_exporter": "python",
   "pygments_lexer": "ipython3",
   "version": "3.7.6"
  }
 },
 "nbformat": 4,
 "nbformat_minor": 2
}
