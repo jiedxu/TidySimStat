{
 "cells": [
  {
   "cell_type": "markdown",
   "metadata": {},
   "source": [
    "# Stochastic Simulation: Variance Reduction"
   ]
  },
  {
   "cell_type": "code",
   "execution_count": 1,
   "metadata": {},
   "outputs": [],
   "source": [
    "import math\n",
    "import pandas as pd\n",
    "import numpy as np\n",
    "from matplotlib import pyplot as plt\n",
    "import scipy.stats as st\n",
    "import random as rd\n",
    "from importlib import reload  \n",
    "import statsmodels.api as sm\n",
    "from typing import Union\n",
    "\n",
    "from TidySimStat import *"
   ]
  },
  {
   "cell_type": "code",
   "execution_count": 75,
   "metadata": {},
   "outputs": [],
   "source": [
    "def evaluate_integral(n):\n",
    "    us = [rd.random() for i in range(n)]\n",
    "    xs = [math.exp(u) for u in us]\n",
    "    return xs"
   ]
  },
  {
   "cell_type": "code",
   "execution_count": 78,
   "metadata": {},
   "outputs": [
    {
     "data": {
      "text/plain": [
       "0.24369775238350208"
      ]
     },
     "execution_count": 78,
     "metadata": {},
     "output_type": "execute_result"
    }
   ],
   "source": [
    "xs = evaluate_integral(10000)\n",
    "cal_var_sample(xs)"
   ]
  },
  {
   "cell_type": "code",
   "execution_count": 11,
   "metadata": {},
   "outputs": [],
   "source": [
    "def eval_int_antithetic(n):\n",
    "    us = [rd.random() for i in range(n)]\n",
    "    ys = [(math.exp(u) + math.exp(1 - u)) / 2 for u in us]\n",
    "    mean_ys = cal_mean_sample(ys)\n",
    "    var_ys = cal_var_sample(ys)\n",
    "    return [mean_ys, var_ys]"
   ]
  },
  {
   "cell_type": "code",
   "execution_count": 12,
   "metadata": {
    "scrolled": true
   },
   "outputs": [
    {
     "data": {
      "text/plain": [
       "[1.7203075556305543, 0.0038965827096504907]"
      ]
     },
     "execution_count": 12,
     "metadata": {},
     "output_type": "execute_result"
    }
   ],
   "source": [
    "evaluate_integral_antithetic(1000)"
   ]
  },
  {
   "cell_type": "code",
   "execution_count": 24,
   "metadata": {},
   "outputs": [],
   "source": [
    "def est_three_points(sample:list, alpha:float=0.05,\n",
    "        var_pop:int=None, mute:bool=True) -> list:\n",
    "    mean = cal_mean_sample(sample, var_pop, mute)\n",
    "    interval = est_interval(sample, alpha, var_pop, mute)\n",
    "    return [interval[0], mean, interval[1]]"
   ]
  },
  {
   "cell_type": "code",
   "execution_count": 25,
   "metadata": {},
   "outputs": [],
   "source": [
    "def eval_int_control_variate(n):\n",
    "    us = [rd.random() for i in range(n)]\n",
    "    xs = [math.exp(u) for u in us]\n",
    "\n",
    "    dat = np.array([xs, us])\n",
    "    cov_xu = np.cov(dat)[0][0]\n",
    "    # mean_xs = cal_mean_sample(xs)\n",
    "    var_u = cal_var_sample(us)\n",
    "    c = - cov_xu / var_u\n",
    "\n",
    "    zs = [xs[i] + c * (us[i] - 0.5) for i in range(n)]\n",
    "    return est_three_points(zs)"
   ]
  },
  {
   "cell_type": "code",
   "execution_count": 26,
   "metadata": {
    "scrolled": true
   },
   "outputs": [
    {
     "data": {
      "text/plain": [
       "[1.695420080733904, 1.717361433723158, 1.739302786712412]"
      ]
     },
     "execution_count": 26,
     "metadata": {},
     "output_type": "execute_result"
    }
   ],
   "source": [
    "eval_int_control_variate(1000)"
   ]
  },
  {
   "cell_type": "code",
   "execution_count": 32,
   "metadata": {},
   "outputs": [],
   "source": [
    "def eval_int_strata_sample(n, m:int=10):\n",
    "    # us = [rd.random() for i in range(n)]\n",
    "    # xs = [math.exp(u) for u in us]\n",
    "\n",
    "    def stratify(m):\n",
    "        us = [rd.random() for i in range(m)]\n",
    "        w = sum([math.exp((i + us[i]) / m) for i in range(m)]) / m\n",
    "        return w\n",
    "\n",
    "    ws = [stratify(m) for i in range(n)]\n",
    "    return ws"
   ]
  },
  {
   "cell_type": "code",
   "execution_count": 33,
   "metadata": {},
   "outputs": [
    {
     "data": {
      "text/plain": [
       "[1.7157277719695654, 1.7193191103550132, 1.722910448740461]"
      ]
     },
     "execution_count": 33,
     "metadata": {},
     "output_type": "execute_result"
    }
   ],
   "source": [
    "ws = eval_int_strata_sample(100)\n",
    "est_three_points(ws)"
   ]
  },
  {
   "cell_type": "markdown",
   "metadata": {},
   "source": [
    "$E[X| Y = y]$ is a function of $y$, while $E[X| Y]$ is a random variable."
   ]
  },
  {
   "cell_type": "code",
   "execution_count": 60,
   "metadata": {},
   "outputs": [
    {
     "data": {
      "text/html": [
       "<div>\n",
       "<style scoped>\n",
       "    .dataframe tbody tr th:only-of-type {\n",
       "        vertical-align: middle;\n",
       "    }\n",
       "\n",
       "    .dataframe tbody tr th {\n",
       "        vertical-align: top;\n",
       "    }\n",
       "\n",
       "    .dataframe thead th {\n",
       "        text-align: right;\n",
       "    }\n",
       "</style>\n",
       "<table border=\"1\" class=\"dataframe\">\n",
       "  <thead>\n",
       "    <tr style=\"text-align: right;\">\n",
       "      <th></th>\n",
       "      <th>x</th>\n",
       "      <th>u</th>\n",
       "    </tr>\n",
       "  </thead>\n",
       "  <tbody>\n",
       "    <tr>\n",
       "      <th>0</th>\n",
       "      <td>1</td>\n",
       "      <td>0.733977</td>\n",
       "    </tr>\n",
       "    <tr>\n",
       "      <th>1</th>\n",
       "      <td>2</td>\n",
       "      <td>0.026808</td>\n",
       "    </tr>\n",
       "    <tr>\n",
       "      <th>2</th>\n",
       "      <td>3</td>\n",
       "      <td>0.523503</td>\n",
       "    </tr>\n",
       "    <tr>\n",
       "      <th>3</th>\n",
       "      <td>4</td>\n",
       "      <td>0.799387</td>\n",
       "    </tr>\n",
       "    <tr>\n",
       "      <th>4</th>\n",
       "      <td>5</td>\n",
       "      <td>0.483587</td>\n",
       "    </tr>\n",
       "    <tr>\n",
       "      <th>5</th>\n",
       "      <td>6</td>\n",
       "      <td>0.996781</td>\n",
       "    </tr>\n",
       "  </tbody>\n",
       "</table>\n",
       "</div>"
      ],
      "text/plain": [
       "   x         u\n",
       "0  1  0.733977\n",
       "1  2  0.026808\n",
       "2  3  0.523503\n",
       "3  4  0.799387\n",
       "4  5  0.483587\n",
       "5  6  0.996781"
      ]
     },
     "execution_count": 60,
     "metadata": {},
     "output_type": "execute_result"
    }
   ],
   "source": [
    "test = pd.DataFrame({\"x\": [1, 2, 3, 4, 5, 6], \"u\": [rd.random() for i in range(6)]})\n",
    "test"
   ]
  },
  {
   "cell_type": "code",
   "execution_count": 155,
   "metadata": {},
   "outputs": [
    {
     "data": {
      "text/plain": [
       "1.0"
      ]
     },
     "execution_count": 155,
     "metadata": {},
     "output_type": "execute_result"
    }
   ],
   "source": [
    "test[\"y\"] = [math.floor(i) + 1 for i in test[\"u\"] * 10]\n",
    "test.iloc[0]['x']"
   ]
  },
  {
   "cell_type": "code",
   "execution_count": 70,
   "metadata": {},
   "outputs": [
    {
     "data": {
      "text/plain": [
       "[1, 2, 3, 4, 5, 6]"
      ]
     },
     "execution_count": 70,
     "metadata": {},
     "output_type": "execute_result"
    }
   ],
   "source": [
    "test[\"x\"].tolist()"
   ]
  },
  {
   "cell_type": "code",
   "execution_count": 94,
   "metadata": {},
   "outputs": [
    {
     "data": {
      "text/plain": [
       "6"
      ]
     },
     "execution_count": 94,
     "metadata": {},
     "output_type": "execute_result"
    }
   ],
   "source": [
    "test[\"u2\"] = test.apply(lambda df: 1 - df[\"u\"], axis=1)\n",
    "test.shape[0]"
   ]
  },
  {
   "cell_type": "code",
   "execution_count": 71,
   "metadata": {},
   "outputs": [
    {
     "data": {
      "text/plain": [
       "1.718281828459045"
      ]
     },
     "execution_count": 71,
     "metadata": {},
     "output_type": "execute_result"
    }
   ],
   "source": [
    "math.exp(1) - 1"
   ]
  },
  {
   "cell_type": "code",
   "execution_count": 79,
   "metadata": {},
   "outputs": [],
   "source": [
    "def analyse_stratified(sample:pd.core.frame.DataFrame):\n",
    "    sample[\"y\"] = [math.floor(i) + 1 for i in test[\"u\"] * 10]\n",
    "    xs_bar_y = [0 for i in range(10)]\n",
    "    for i in range(10):\n",
    "        xs_bar_y[i] = mean(test.loc[test[\"y\"] == i+1])\n",
    "    return xs_bar_y"
   ]
  },
  {
   "cell_type": "code",
   "execution_count": 84,
   "metadata": {},
   "outputs": [
    {
     "data": {
      "text/plain": [
       "0.6666666666666666"
      ]
     },
     "execution_count": 84,
     "metadata": {},
     "output_type": "execute_result"
    }
   ],
   "source": [
    "np.var([1, 2, 3])"
   ]
  },
  {
   "cell_type": "code",
   "execution_count": 112,
   "metadata": {},
   "outputs": [
    {
     "data": {
      "text/plain": [
       "0.29602407306451783"
      ]
     },
     "execution_count": 112,
     "metadata": {},
     "output_type": "execute_result"
    }
   ],
   "source": [
    "test[['x', 'u']].cov()['x'][1]"
   ]
  },
  {
   "cell_type": "code",
   "execution_count": 109,
   "metadata": {},
   "outputs": [
    {
     "data": {
      "text/plain": [
       "2"
      ]
     },
     "execution_count": 109,
     "metadata": {},
     "output_type": "execute_result"
    }
   ],
   "source": [
    "test['x'][1]"
   ]
  },
  {
   "cell_type": "code",
   "execution_count": 156,
   "metadata": {},
   "outputs": [],
   "source": [
    "def cal_vcm(n:int):\n",
    "    ## Calculate the theoretical variance of the condition expectation\n",
    "    vcm = (sum([math.exp(i / 5) for i in range(1, 11)]) / 10 -\n",
    "        (sum(math.exp(i / 10) for i in range(1, 11)) / 10)**2) * 100 * \\\n",
    "        (1 - math.exp(- 0.1))**2\n",
    "    return vcm"
   ]
  },
  {
   "cell_type": "code",
   "execution_count": 130,
   "metadata": {
    "scrolled": true
   },
   "outputs": [
    {
     "data": {
      "text/plain": [
       "0.0006181177792205503"
      ]
     },
     "execution_count": 130,
     "metadata": {},
     "output_type": "execute_result"
    }
   ],
   "source": [
    "cal_var_conditional_mean(10000) "
   ]
  },
  {
   "cell_type": "code",
   "execution_count": 159,
   "metadata": {},
   "outputs": [
    {
     "data": {
      "text/plain": [
       "0.23937616016051333"
      ]
     },
     "execution_count": 159,
     "metadata": {},
     "output_type": "execute_result"
    }
   ],
   "source": [
    "cal_vcm(10000)"
   ]
  },
  {
   "cell_type": "markdown",
   "metadata": {},
   "source": [
    "$$ \\begin{aligned}\n",
    "    E[X| Y] &= \\int_{0.1 Y - 0.1}^{0.1 Y} e^u \\mathrm{d} u \\\\\n",
    "    &= 10 e^{0.1 Y} \\left(1 - e^{- 0.1} \\right)\n",
    "\\end{aligned} $$\n",
    "\n",
    "The theoretical conditional expection of $X$ given $Y = k$ for $k = 1, 2, ... 10$:\n",
    "$$ \\begin{aligned}\n",
    "    E[X| Y = k] = 10 e^{0.1 k} \\left(1 - e^{- 0.1} \\right) \\quad \\text{for } k = 1, 2, ... 10\n",
    "\\end{aligned} $$\n",
    "\n",
    "The theoretical variance reduction because of stratified sampling should be:\n",
    "$$ \\begin{aligned}\n",
    "    \\frac{1}{n} \\mathrm{Var} \\left[E[X| Y] \\right] & = \\frac{1}{n} \\mathrm{Var} \\left[ 10 \\left(1 - e^{- 0.1} \\right) e^{0.1 Y} \\right] \\\\\n",
    "    &= \\frac{100 \\left(1 - e^{- 0.1} \\right)^2}{n} \\mathrm{Var} (e^{0.1 Y}) \\\\\n",
    "    &= \\frac{100 \\left(1 - e^{- 0.1} \\right)^2}{n} \\left[E(e^{0.2 Y}) - E(e^{0.1 Y})^2 \\right] \\\\\n",
    "    &= 2.39376 E-5\n",
    "\\end{aligned} $$\n",
    "\n",
    "The theoretical variance:\n",
    "$$ \\begin{aligned}\n",
    "    \\mathrm{Var} (X) = \\frac{1}{2}\\left(e^{2}-1\\right)-(e-1)^{2}=0.2420\n",
    "\\end{aligned} $$\n",
    "\n",
    "\n",
    "<!-- $$ \\begin{aligned}\n",
    "    \\frac{1}{n} \\mathrm{Var} \\left[E[X| Y] \\right] &= \\frac{1}{n} E\\left[(E[X | Y])^{2}\\right] - \\frac{1}{n} (E[X])^{2} \\\\\n",
    "    &= \\frac{100}{n} E \\left[e^{0.2 Y} (1 - e^{- 0.1 Y})^2 \\right] - \\frac{(e - 1)^2}{n} \\\\\n",
    "    &= \\frac{100}{n} \\sum_{y=1}^{10} e^{0.2 y} (1 - e^{- 0.1 y})^2 0.1 - \\frac{(e - 1)^2}{n} \\\\\n",
    "\\end{aligned} $$ -->"
   ]
  },
  {
   "cell_type": "code",
   "execution_count": 133,
   "metadata": {
    "scrolled": true
   },
   "outputs": [
    {
     "data": {
      "text/plain": [
       "[1.051709180756477,\n",
       " 1.1623184008452228,\n",
       " 1.2845604941583335,\n",
       " 1.419658900652673,\n",
       " 1.5689657305885794,\n",
       " 1.7339752969038094,\n",
       " 1.9163390707996768,\n",
       " 2.1178822102199124,\n",
       " 2.340621826644822,\n",
       " 2.586787173020957]"
      ]
     },
     "execution_count": 133,
     "metadata": {},
     "output_type": "execute_result"
    }
   ],
   "source": [
    "[10 * math.exp(0.1 * y) * (1 - math.exp(- 0.1)) for y in range(1, 11)]"
   ]
  },
  {
   "cell_type": "code",
   "execution_count": 148,
   "metadata": {},
   "outputs": [
    {
     "data": {
      "text/plain": [
       "2.393761601605129e-05"
      ]
     },
     "execution_count": 148,
     "metadata": {},
     "output_type": "execute_result"
    }
   ],
   "source": [
    "t = sum([math.exp(0.2 * y) for y in range(1, 11)]) / 10 - sum([math.exp(0.1 * y) for y in range(1, 11)])**2 / 100\n",
    "t * 100 * (1 - math.exp(-0.1))**2 / 10000"
   ]
  },
  {
   "cell_type": "markdown",
   "metadata": {},
   "source": [
    "# test"
   ]
  },
  {
   "cell_type": "code",
   "execution_count": 9,
   "metadata": {},
   "outputs": [
    {
     "data": {
      "text/plain": [
       "9.226628711056506e-07"
      ]
     },
     "execution_count": 9,
     "metadata": {},
     "output_type": "execute_result"
    }
   ],
   "source": [
    "cal_pvalue_chi2(45, 9)"
   ]
  },
  {
   "cell_type": "code",
   "execution_count": 8,
   "metadata": {},
   "outputs": [
    {
     "name": "stdout",
     "output_type": "stream",
     "text": [
      "Help on function cal_pvalue_chi2 in module TidySimStat.inference:\n",
      "\n",
      "cal_pvalue_chi2(stat, df, mute: bool = True)\n",
      "    Calculate the pvalue of two-sided t-test using Chi-Square distribution.\n",
      "\n"
     ]
    }
   ],
   "source": [
    "help(cal_pvalue_chi2)"
   ]
  }
 ],
 "metadata": {
  "kernelspec": {
   "display_name": "Python 3",
   "language": "python",
   "name": "python3"
  },
  "language_info": {
   "codemirror_mode": {
    "name": "ipython",
    "version": 3
   },
   "file_extension": ".py",
   "mimetype": "text/x-python",
   "name": "python",
   "nbconvert_exporter": "python",
   "pygments_lexer": "ipython3",
   "version": "3.7.6"
  }
 },
 "nbformat": 4,
 "nbformat_minor": 2
}
